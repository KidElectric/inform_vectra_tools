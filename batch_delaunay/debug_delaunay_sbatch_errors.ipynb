{
 "cells": [
  {
   "cell_type": "markdown",
   "id": "6a98cc38-60b0-45a8-b864-5ae23cb36376",
   "metadata": {},
   "source": [
    "# Imports"
   ]
  },
  {
   "cell_type": "code",
   "execution_count": 6,
   "id": "a0f13acd-2f84-43bc-9e2d-d57c8880a4c1",
   "metadata": {},
   "outputs": [
    {
     "name": "stdout",
     "output_type": "stream",
     "text": [
      "True\n",
      "[PosixPath('/mnt/logs/batch_delaunay/TypeError_v0.txt'), PosixPath('/mnt/logs/batch_delaunay/foxp3_v0.txt')]\n"
     ]
    },
    {
     "name": "stderr",
     "output_type": "stream",
     "text": [
      "<ipython-input-6-968617bd85ff>:11: ParserWarning: Falling back to the 'python' engine because the 'c' engine does not support regex separators (separators > 1 char and different from '\\s+' are interpreted as regex); you can avoid this warning by specifying engine='python'.\n",
      "  pd.read_csv(grep_errors[1],sep='#1',header=None)\n"
     ]
    },
    {
     "data": {
      "text/html": [
       "<div>\n",
       "<style scoped>\n",
       "    .dataframe tbody tr th:only-of-type {\n",
       "        vertical-align: middle;\n",
       "    }\n",
       "\n",
       "    .dataframe tbody tr th {\n",
       "        vertical-align: top;\n",
       "    }\n",
       "\n",
       "    .dataframe thead th {\n",
       "        text-align: right;\n",
       "    }\n",
       "</style>\n",
       "<table border=\"1\" class=\"dataframe\">\n",
       "  <thead>\n",
       "    <tr style=\"text-align: right;\">\n",
       "      <th></th>\n",
       "      <th>0</th>\n",
       "      <th>1</th>\n",
       "    </tr>\n",
       "  </thead>\n",
       "  <tbody>\n",
       "    <tr>\n",
       "      <th>0</th>\n",
       "      <td>-rw-r--r-- 1 bri8 rbao  3.9M Jun  8 11</td>\n",
       "      <td>11 133_042420  #01 TMA_Phenotyping #1_Core[1,8...</td>\n",
       "    </tr>\n",
       "    <tr>\n",
       "      <th>1</th>\n",
       "      <td>-rw-r--r-- 1 bri8 rbao  1.1M Jun  8 11</td>\n",
       "      <td>03 28_042420  #02 TMA_Phenotyping #2_Core[1,12...</td>\n",
       "    </tr>\n",
       "    <tr>\n",
       "      <th>2</th>\n",
       "      <td>-rw-r--r-- 1 bri8 rbao  2.1M Jun  8 11</td>\n",
       "      <td>07 31_042420  #02 TMA_Phenotyping #2_Core[1,12...</td>\n",
       "    </tr>\n",
       "    <tr>\n",
       "      <th>3</th>\n",
       "      <td>-rw-r--r-- 1 bri8 rbao  880K Jun  8 11</td>\n",
       "      <td>04 33_042420  #02 TMA_Phenotyping #2_Core[1,12...</td>\n",
       "    </tr>\n",
       "  </tbody>\n",
       "</table>\n",
       "</div>"
      ],
      "text/plain": [
       "                                        0  \\\n",
       "0  -rw-r--r-- 1 bri8 rbao  3.9M Jun  8 11   \n",
       "1  -rw-r--r-- 1 bri8 rbao  1.1M Jun  8 11   \n",
       "2  -rw-r--r-- 1 bri8 rbao  2.1M Jun  8 11   \n",
       "3  -rw-r--r-- 1 bri8 rbao  880K Jun  8 11   \n",
       "\n",
       "                                                   1  \n",
       "0  11 133_042420  #01 TMA_Phenotyping #1_Core[1,8...  \n",
       "1  03 28_042420  #02 TMA_Phenotyping #2_Core[1,12...  \n",
       "2  07 31_042420  #02 TMA_Phenotyping #2_Core[1,12...  \n",
       "3  04 33_042420  #02 TMA_Phenotyping #2_Core[1,12...  "
      ]
     },
     "execution_count": 6,
     "metadata": {},
     "output_type": "execute_result"
    }
   ],
   "source": [
    "from pathlib import Path\n",
    "import pandas as pd\n",
    "import numpy as np\n",
    "logs = Path('/mnt/logs')\n",
    "batch_logs = logs.joinpath('batch_delaunay')\n",
    "batch_logs_v0 = batch_logs.joinpath('v0_foxp3')\n",
    "print(batch_logs_v0.exists())\n",
    "grep_errors = [fn for fn in batch_logs.glob('*.txt')]\n",
    "print(grep_errors)\n",
    "# err = pd.read_csv(grep_errors[1],sep=':',header=None)\n",
    "pd.read_csv(grep_errors[1],sep='#1',header=None)\n",
    "err.head()"
   ]
  },
  {
   "cell_type": "code",
   "execution_count": 60,
   "id": "3ea14960-8f56-4926-97ab-4ef888512606",
   "metadata": {},
   "outputs": [
    {
     "name": "stdout",
     "output_type": "stream",
     "text": [
      "\n",
      " /mnt/logs/batch_delaunay/v0/slurm-926808_13.out\n",
      "13,TMA01,042420  #01 TMA_Phenotyping #1_Core[1,1,R]_[62880,6954]_cell_seg_data.txt\n",
      "\n",
      " /mnt/logs/batch_delaunay/v0/slurm-926910_102.out\n",
      "102,TMA02,042420  #02 TMA_Phenotyping #2_Core[1,6,R]_[65626,9454]_cell_seg_data.txt\n",
      "\n",
      " /mnt/logs/batch_delaunay/v0/slurm-926910_34.out\n",
      "34,TMA02,042420  #02 TMA_Phenotyping #2_Core[1,2,C]_[41529,4452]_cell_seg_data.txt\n",
      "\n",
      " /mnt/logs/batch_delaunay/v0/slurm-926808_71.out\n",
      "71,TMA01,042420  #01 TMA_Phenotyping #1_Core[1,3,S]_[64644,10320]_cell_seg_data.txt\n",
      "\n",
      " /mnt/logs/batch_delaunay/v0/slurm-926808_8.out\n",
      "8,TMA01,042420  #01 TMA_Phenotyping #1_Core[1,1,L]_[53821,6914]_cell_seg_data.txt\n",
      "\n",
      " /mnt/logs/batch_delaunay/v0/slurm-926808_149.out\n",
      "149,TMA01,042420  #01 TMA_Phenotyping #1_Core[1,9,I]_[49132,19419]_cell_seg_data.txt\n",
      "\n",
      " /mnt/logs/batch_delaunay/v0/slurm-926910_84.out\n",
      "84,TMA02,042420  #02 TMA_Phenotyping #2_Core[1,5,O]_[60624,7723]_cell_seg_data.txt\n",
      "\n",
      " /mnt/logs/batch_delaunay/v0/slurm-926808_123.out\n",
      "123,TMA01,042420  #01 TMA_Phenotyping #1_Core[1,7,N]_[56427,16253]_cell_seg_data.txt\n",
      "\n",
      " /mnt/logs/batch_delaunay/v0/slurm-926808_86.out\n",
      "86,TMA01,042420  #01 TMA_Phenotyping #1_Core[1,4,S]_[64483,11804]_cell_seg_data.txt\n"
     ]
    }
   ],
   "source": [
    "mnt_point = '/ix/rbao/Projects/HCC-CBS-028-Pfizer-TBruno'\n",
    "for log in err.iloc[:,0]:\n",
    "    log_path = batch_logs_v0.joinpath(log.split('/')[1])\n",
    "    print('\\n',log_path)\n",
    "    with open(str(log_path)) as file:\n",
    "        content = file.readlines()\n",
    "        jobid = content[0].split(': ')[1][:-1]\n",
    "        temp = content[3].split(mnt_point)[1]\n",
    "        raw_fn = temp.split(' to ')[0]\n",
    "        tma = raw_fn.split('/')[4]\n",
    "        fn_only = raw_fn.split('/')[-1]\n",
    "        print(jobid,tma,fn_only,sep=',')\n",
    "        "
   ]
  },
  {
   "cell_type": "markdown",
   "id": "bb36446a-a80e-47c8-af23-27724c7b00c5",
   "metadata": {},
   "source": [
    "# Compare input files to results and see what is missing"
   ]
  },
  {
   "cell_type": "code",
   "execution_count": 67,
   "id": "2f98d785-bb5c-4f71-b8d0-dc0f91b6c4c8",
   "metadata": {},
   "outputs": [
    {
     "name": "stdout",
     "output_type": "stream",
     "text": [
      "042420  #02 TMA_Phenotyping #2_Core[1,10,C]\n",
      "042420  #02 TMA_Phenotyping #2_Core[1,10,D]\n",
      "042420  #02 TMA_Phenotyping #2_Core[1,10,E]\n"
     ]
    }
   ],
   "source": [
    "inputs = pd.Series(['_'.join(fn.parts[-1].split('_')[0:3]) \\\n",
    "              for fn in data_pn.glob('*.txt')])\n",
    "inputs = list(inputs.values)\n",
    "inputs.sort()\n",
    "print('\\n'.join(inputs[0:3]))"
   ]
  },
  {
   "cell_type": "code",
   "execution_count": 7,
   "id": "18a92331-cbdb-40e0-97f1-a9e57e99ab9f",
   "metadata": {},
   "outputs": [],
   "source": [
    "tmas = ['TMA01','TMA02']\n",
    "results = Path('/mnt/results/neighborhoods/v0/')\n",
    "result_fns = pd.Series(['_'.join(fn.parts[-1].split('_')[1:4]) \\\n",
    "              for fn in results.glob('*.csv')])\n",
    "missing=[]\n",
    "jobids=[]\n",
    "for tma in tmas:\n",
    "    data_pn = Path('/mnt/data/TBruno_TMA_Phenotyping/Cell_segmentation/'+tma)\n",
    "    inputs = pd.Series(['_'.join(fn.parts[-1].split('_')[0:3]) \\\n",
    "                  for fn in data_pn.glob('*.txt')])\n",
    "    inputs = list(inputs.values)\n",
    "    inputs.sort()\n",
    "    for jobid,input_fn in enumerate(inputs):\n",
    "        if not np.any(result_fns.isin([input_fn]).values):\n",
    "            missing.append(input_fn)\n",
    "            jobids.append(jobid)\n",
    "for miss,jobid in zip (missing,jobids):\n",
    "    print(miss,jobid)"
   ]
  },
  {
   "cell_type": "code",
   "execution_count": 9,
   "id": "ea4a3e4e-e906-49cf-a1d4-28ee25003bb0",
   "metadata": {},
   "outputs": [
    {
     "data": {
      "text/plain": [
       "0    042420  #01 TMA_Phenotyping #1_Core[1,4,O]\n",
       "1    042420  #01 TMA_Phenotyping #1_Core[1,3,I]\n",
       "dtype: object"
      ]
     },
     "execution_count": 9,
     "metadata": {},
     "output_type": "execute_result"
    }
   ],
   "source": [
    "result_fns[0:2]"
   ]
  }
 ],
 "metadata": {
  "kernelspec": {
   "display_name": "Singularity (py38_sing)",
   "language": "python",
   "name": "py38_sing"
  },
  "language_info": {
   "codemirror_mode": {
    "name": "ipython",
    "version": 3
   },
   "file_extension": ".py",
   "mimetype": "text/x-python",
   "name": "python",
   "nbconvert_exporter": "python",
   "pygments_lexer": "ipython3",
   "version": "3.8.12"
  }
 },
 "nbformat": 4,
 "nbformat_minor": 5
}
